{
 "cells": [
  {
   "cell_type": "code",
   "execution_count": 2,
   "metadata": {},
   "outputs": [],
   "source": [
    "import os\n",
    "\n",
    "os.environ['OPENAI_API_KEY'] = ''\n",
    "os.environ['HUGGINGFACEHUB_API_TOKEN'] = ''"
   ]
  },
  {
   "cell_type": "markdown",
   "metadata": {},
   "source": [
    "## Basics LLMChain - Fact Extraction"
   ]
  },
  {
   "cell_type": "code",
   "execution_count": 4,
   "metadata": {},
   "outputs": [],
   "source": [
    "from langchain.prompts import PromptTemplate\n",
    "from langchain.chains import LLMChain\n",
    "from langchain.llms import HuggingFaceHub"
   ]
  },
  {
   "cell_type": "code",
   "execution_count": 5,
   "metadata": {},
   "outputs": [
    {
     "name": "stderr",
     "output_type": "stream",
     "text": [
      "/home/rebanaryal/langchain-basics/venv/lib/python3.10/site-packages/tqdm/auto.py:21: TqdmWarning: IProgress not found. Please update jupyter and ipywidgets. See https://ipywidgets.readthedocs.io/en/stable/user_install.html\n",
      "  from .autonotebook import tqdm as notebook_tqdm\n"
     ]
    }
   ],
   "source": [
    "llm_hf = HuggingFaceHub(\n",
    "    repo_id = \"google/flan-t5-large\",\n",
    "    model_kwargs = {\"temperature\": 0, \"max_length\": 300}\n",
    ")"
   ]
  },
  {
   "cell_type": "code",
   "execution_count": 7,
   "metadata": {},
   "outputs": [
    {
     "data": {
      "text/plain": [
       "3151"
      ]
     },
     "execution_count": 7,
     "metadata": {},
     "output_type": "execute_result"
    }
   ],
   "source": [
    "article = '''Mount Everest is a peak in the Himalaya mountain range. It is located between Nepal and Tibet, an autonomous region of China. At 8,849 meters (29,032 feet), it is considered the tallest point on Earth. In the nineteenth century, the mountain was named after George Everest, a former Surveyor General of India. The Tibetan name is Chomolungma, which means “Mother Goddess of the World.” The Nepali name is Sagarmatha, which has various meanings.\n",
    "\n",
    "The first ever recorded people to climb Everest were Edmund Hillary (a mountaineer from New Zealand) and his Tibetan guide Tenzing Norgay. They climbed the mountain in 1953 and hold the record together. The first records of Everest’s height came much earlier, in 1856. British surveyors recorded that Everest was the tallest peak in the world in their Great Trigonometrical Survey of the Indian subcontinent.\n",
    "\n",
    "The Himalayan mountains have long been home to indigenous groups living in the valleys. The most famous of these are the Sherpa people. The word “Sherpa” is often used to mean mountain guide, though it actually refers to an ethnic group. The Sherpa have valuable experience in mountain climbing, which they can provide to other climbers. Most climbs of Everest would be impossible without the Sherpas’ logistical help and knowledge. However, their way of life extends beyond helping Everest climbers. Traditionally, their lifestyle has consisted of farming, herding, and trade. And, because they live at such a high altitude year round, they are accustomed to the low oxygen levels.\n",
    "\n",
    "Climbing Mount Everest has become a popular expedition for mountain climbers. However, it is a dangerous undertaking. Climbing Everest requires a lot of experience mountaineering elsewhere, as well as a certificate of good health, equipment, and a trained Nepalese guide. The snow and ice on the mountain create deadly hazards like avalanches, and there is only a limited climbing season due to bad weather conditions. But perhaps the biggest danger is the altitude. Most climbers are not accustomed to the high altitude and low oxygen levels and rely on bottled oxygen they bring along. This is why the area above 8,000 meters (26,000 feet) elevation on Everest is called the “death zone.” Climbers who spend long periods in this region can develop altitude sickness and even brain swelling.\n",
    "\n",
    "Mount Everest’s climbing industry has become controversial. As popularity of the climb has increased, there have been more “traffic jams” as climbers spend too much time in the death zone waiting for their chance to go to the summit. With more people has also come more pollution up near the summit as climbers often discard unwanted items all along the mountain. Additionally, the Sherpa people have been exploited by climbers, and their traditional way of life has been disrupted by foreign climbers. Sherpa guides are faced with some of the highest death rates of any field of employment, for comparatively little pay. Most disturbingly, because many climbers have died along the way, and their bodies are impossible to retrieve, climbers must frequently travel past corpses as they make their way up the mountain.'''\n",
    "len(article)"
   ]
  },
  {
   "cell_type": "code",
   "execution_count": 8,
   "metadata": {},
   "outputs": [],
   "source": [
    "fact_extraction_prompt = PromptTemplate(\n",
    "    input_variables= [\"text_input\"],\n",
    "    template = \"Extract the key facts out of this text. Don't include opinions. Give each fact a number and keep the short sentences: \\n\\n {text_input}\")"
   ]
  },
  {
   "cell_type": "code",
   "execution_count": 11,
   "metadata": {},
   "outputs": [
    {
     "name": "stdout",
     "output_type": "stream",
     "text": [
      "The first recorded people to climb Everest were Edmund Hillary and his Tibetan guide Tenzing Norgay. They climbed the mountain in 1953 and hold the record together. The Sherpa people have valuable experience in mountain climbing, which they can provide to other climbers.\n"
     ]
    },
    {
     "data": {
      "text/plain": [
       "str"
      ]
     },
     "execution_count": 11,
     "metadata": {},
     "output_type": "execute_result"
    }
   ],
   "source": [
    "fact_extraction_chain = LLMChain(llm = llm_hf, prompt = fact_extraction_prompt)\n",
    "facts = fact_extraction_chain.run(article)\n",
    "print(facts)"
   ]
  },
  {
   "cell_type": "markdown",
   "metadata": {},
   "source": [
    "## Rewrite the summart from the Fact\n"
   ]
  },
  {
   "cell_type": "code",
   "execution_count": 14,
   "metadata": {},
   "outputs": [],
   "source": [
    "invester_update_prompt = PromptTemplate(\n",
    "    input_variables = [\"facts\"],\n",
    "    template = \"extract the first climber name and the date from the paragraph. \\n\\n {facts}\"\n",
    ")"
   ]
  },
  {
   "cell_type": "code",
   "execution_count": 16,
   "metadata": {},
   "outputs": [
    {
     "name": "stdout",
     "output_type": "stream",
     "text": [
      "Edmund Hillary and his Tibetan guide Tenzing Norgay. They climbed the mountain in 1953\n"
     ]
    },
    {
     "data": {
      "text/plain": [
       "86"
      ]
     },
     "execution_count": 16,
     "metadata": {},
     "output_type": "execute_result"
    }
   ],
   "source": [
    "invester_update_chain = LLMChain(llm = llm_hf, prompt = invester_update_prompt)\n",
    "invester_update = invester_update_chain.run(facts)\n",
    "print(invester_update)\n",
    "len(invester_update)"
   ]
  },
  {
   "cell_type": "markdown",
   "metadata": {},
   "source": [
    "## Chaining these two chain together"
   ]
  },
  {
   "cell_type": "code",
   "execution_count": 18,
   "metadata": {},
   "outputs": [
    {
     "name": "stdout",
     "output_type": "stream",
     "text": [
      "\n",
      "\n",
      "\u001b[1m> Entering new SimpleSequentialChain chain...\u001b[0m\n",
      "\u001b[36;1m\u001b[1;3mThe first recorded people to climb Everest were Edmund Hillary and his Tibetan guide Tenzing Norgay. They climbed the mountain in 1953 and hold the record together. The Sherpa people have valuable experience in mountain climbing, which they can provide to other climbers.\u001b[0m\n",
      "\u001b[33;1m\u001b[1;3mEdmund Hillary and his Tibetan guide Tenzing Norgay. They climbed the mountain in 1953\u001b[0m\n",
      "\n",
      "\u001b[1m> Finished chain.\u001b[0m\n"
     ]
    }
   ],
   "source": [
    "from langchain.chains import SimpleSequentialChain, SequentialChain\n",
    "full_chain = SimpleSequentialChain(chains = [fact_extraction_chain, invester_update_chain], verbose = True) #verbose when enabled True, shows the ouput stepwise\n",
    "response = full_chain.run(article)"
   ]
  }
 ],
 "metadata": {
  "kernelspec": {
   "display_name": "venv",
   "language": "python",
   "name": "python3"
  },
  "language_info": {
   "codemirror_mode": {
    "name": "ipython",
    "version": 3
   },
   "file_extension": ".py",
   "mimetype": "text/x-python",
   "name": "python",
   "nbconvert_exporter": "python",
   "pygments_lexer": "ipython3",
   "version": "3.10.12"
  }
 },
 "nbformat": 4,
 "nbformat_minor": 2
}
